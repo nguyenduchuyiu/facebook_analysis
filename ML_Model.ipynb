{
 "cells": [
  {
   "cell_type": "code",
   "execution_count": 70,
   "metadata": {},
   "outputs": [
    {
     "name": "stdout",
     "output_type": "stream",
     "text": [
      "MAE: 171.02450000000005\n",
      "X_sample :     like  love  care  haha  wow   sad  angry  comments\n",
      "0  3500    23     8  7000   14  1200      0      1100\n",
      "result :  [260.19]\n"
     ]
    }
   ],
   "source": [
    "import pandas as pd\n",
    "import numpy as np\n",
    "from sklearn.model_selection import train_test_split\n",
    "\n",
    "# Read the data\n",
    "data = pd.read_csv('Data\\\\clean_insightmatlong.csv')\n",
    "data = data[['like','love','care','haha','wow','sad','angry','comments','shares']]\n",
    "\n",
    "# Separate target from predictors\n",
    "y = data.shares\n",
    "X = data.drop(['shares'], axis=1)\n",
    "\n",
    "# Divide data into training and validation subsets\n",
    "X_train, X_valid, y_train, y_valid = train_test_split(X, y, train_size=0.8, test_size=0.2,\n",
    "                                                                random_state=0)\n",
    "\n",
    "from sklearn.ensemble import RandomForestRegressor\n",
    "\n",
    "model = RandomForestRegressor(n_estimators=100, random_state=0)\n",
    "\n",
    "from sklearn.metrics import mean_absolute_error\n",
    "\n",
    "# Preprocessing of training data, fit model \n",
    "model.fit(X_train, y_train)\n",
    "\n",
    "# Preprocessing of validation data, get predictions\n",
    "preds = model.predict(X_valid)\n",
    "\n",
    "# Evaluate the model\n",
    "score = mean_absolute_error(y_valid, preds)\n",
    "print('MAE:', score)\n",
    "\n",
    "X_sample = pd.DataFrame([[3500,23,8,7000,14,1200,0,1100]],columns=X_train.columns)\n",
    "print(\"X_sample : \", X_sample)\n",
    "\n",
    "res = model.predict(X_sample)\n",
    "print(\"result : \",res)"
   ]
  }
 ],
 "metadata": {
  "kernelspec": {
   "display_name": "gpu_env",
   "language": "python",
   "name": "python3"
  },
  "language_info": {
   "codemirror_mode": {
    "name": "ipython",
    "version": 3
   },
   "file_extension": ".py",
   "mimetype": "text/x-python",
   "name": "python",
   "nbconvert_exporter": "python",
   "pygments_lexer": "ipython3",
   "version": "3.11.5"
  }
 },
 "nbformat": 4,
 "nbformat_minor": 2
}
