{
 "cells": [
  {
   "cell_type": "markdown",
   "metadata": {},
   "source": [
    "<span style=\"color:CYAN;\">I. CRAWL DATA</span>"
   ]
  },
  {
   "cell_type": "code",
   "execution_count": 4,
   "metadata": {},
   "outputs": [],
   "source": [
    "import facebook_scraper as fs\n",
    "import pandas as pd\n",
    "\n",
    "FANPAGE_PATH = 'insightmatlong' \n",
    "file_path = \"Data\\\\\" + FANPAGE_PATH + '.csv'"
   ]
  },
  {
   "cell_type": "code",
   "execution_count": 5,
   "metadata": {},
   "outputs": [],
   "source": [
    "def convert_to_dataframe(data):\n",
    "    post_df = pd.DataFrame(columns=data[0].keys(), \n",
    "                            index=range(len(data)), \n",
    "                            data=data)\n",
    "    return post_df\n",
    "\n",
    "# Crawling data\n",
    "def get_post_data(fanpage_path, page_number):\n",
    "    fs.set_cookies(cookies='Data\\cookies.txt')\n",
    "    post_list = []\n",
    "\n",
    "    for post in fs.get_posts(fanpage_path,\n",
    "                options = {\"comments\" : True,\"reactions\": True, \"allow_extra_requests\": True ,\"reactors\" : True},\n",
    "                extra_info=True, \n",
    "                pages=page_number):\n",
    "        print(post)\n",
    "        post_list.append(post)\n",
    "\n",
    "    return post_list"
   ]
  },
  {
   "cell_type": "code",
   "execution_count": 6,
   "metadata": {},
   "outputs": [
    {
     "ename": "IndexError",
     "evalue": "list index out of range",
     "output_type": "error",
     "traceback": [
      "\u001b[1;31m---------------------------------------------------------------------------\u001b[0m",
      "\u001b[1;31mIndexError\u001b[0m                                Traceback (most recent call last)",
      "\u001b[1;32me:\\facebook_analysis\\Crawl_Data.ipynb Cell 4\u001b[0m line \u001b[0;36m4\n\u001b[0;32m      <a href='vscode-notebook-cell:/e%3A/facebook_analysis/Crawl_Data.ipynb#W3sZmlsZQ%3D%3D?line=0'>1</a>\u001b[0m \u001b[39m# Get and store data\u001b[39;00m\n\u001b[0;32m      <a href='vscode-notebook-cell:/e%3A/facebook_analysis/Crawl_Data.ipynb#W3sZmlsZQ%3D%3D?line=1'>2</a>\u001b[0m post_data \u001b[39m=\u001b[39m get_post_data(fanpage_path\u001b[39m=\u001b[39mFANPAGE_PATH, page_number\u001b[39m=\u001b[39m\u001b[39m20\u001b[39m)\n\u001b[1;32m----> <a href='vscode-notebook-cell:/e%3A/facebook_analysis/Crawl_Data.ipynb#W3sZmlsZQ%3D%3D?line=3'>4</a>\u001b[0m post_data_df \u001b[39m=\u001b[39m convert_to_dataframe(data\u001b[39m=\u001b[39;49mpost_data)\n\u001b[0;32m      <a href='vscode-notebook-cell:/e%3A/facebook_analysis/Crawl_Data.ipynb#W3sZmlsZQ%3D%3D?line=5'>6</a>\u001b[0m post_data_df\u001b[39m.\u001b[39mto_csv(file_path, index\u001b[39m=\u001b[39m\u001b[39mFalse\u001b[39;00m) \n",
      "\u001b[1;32me:\\facebook_analysis\\Crawl_Data.ipynb Cell 4\u001b[0m line \u001b[0;36m2\n\u001b[0;32m      <a href='vscode-notebook-cell:/e%3A/facebook_analysis/Crawl_Data.ipynb#W3sZmlsZQ%3D%3D?line=0'>1</a>\u001b[0m \u001b[39mdef\u001b[39;00m \u001b[39mconvert_to_dataframe\u001b[39m(data):\n\u001b[1;32m----> <a href='vscode-notebook-cell:/e%3A/facebook_analysis/Crawl_Data.ipynb#W3sZmlsZQ%3D%3D?line=1'>2</a>\u001b[0m     post_df \u001b[39m=\u001b[39m pd\u001b[39m.\u001b[39mDataFrame(columns\u001b[39m=\u001b[39mdata[\u001b[39m0\u001b[39;49m]\u001b[39m.\u001b[39mkeys(), \n\u001b[0;32m      <a href='vscode-notebook-cell:/e%3A/facebook_analysis/Crawl_Data.ipynb#W3sZmlsZQ%3D%3D?line=2'>3</a>\u001b[0m                             index\u001b[39m=\u001b[39m\u001b[39mrange\u001b[39m(\u001b[39mlen\u001b[39m(data)), \n\u001b[0;32m      <a href='vscode-notebook-cell:/e%3A/facebook_analysis/Crawl_Data.ipynb#W3sZmlsZQ%3D%3D?line=3'>4</a>\u001b[0m                             data\u001b[39m=\u001b[39mdata)\n\u001b[0;32m      <a href='vscode-notebook-cell:/e%3A/facebook_analysis/Crawl_Data.ipynb#W3sZmlsZQ%3D%3D?line=4'>5</a>\u001b[0m     \u001b[39mreturn\u001b[39;00m post_df\n",
      "\u001b[1;31mIndexError\u001b[0m: list index out of range"
     ]
    }
   ],
   "source": [
    "# Get and store data\n",
    "post_data = get_post_data(fanpage_path=FANPAGE_PATH, page_number=20)\n",
    "\n",
    "post_data_df = convert_to_dataframe(data=post_data)\n",
    "\n",
    "post_data_df.to_csv(file_path, index=False) "
   ]
  }
 ],
 "metadata": {
  "kernelspec": {
   "display_name": "gpu_env",
   "language": "python",
   "name": "python3"
  },
  "language_info": {
   "codemirror_mode": {
    "name": "ipython",
    "version": 3
   },
   "file_extension": ".py",
   "mimetype": "text/x-python",
   "name": "python",
   "nbconvert_exporter": "python",
   "pygments_lexer": "ipython3",
   "version": "3.11.5"
  }
 },
 "nbformat": 4,
 "nbformat_minor": 2
}
