{
 "cells": [
  {
   "cell_type": "markdown",
   "metadata": {},
   "source": [
    "<span style=\"color:CYAN;\">I. CRAWL DATA</span>"
   ]
  },
  {
   "cell_type": "code",
   "execution_count": 14,
   "metadata": {},
   "outputs": [],
   "source": [
    "import facebook_scraper as fs\n",
    "import pandas as pd\n",
    "\n",
    "FANPAGE_PATH = 'insightmatlong' \n",
    "file_path = \"Data\\\\\" + FANPAGE_PATH + '.csv'"
   ]
  },
  {
   "cell_type": "code",
   "execution_count": 5,
   "metadata": {},
   "outputs": [],
   "source": [
    "def convert_to_dataframe(data):\n",
    "    post_df = pd.DataFrame(columns=data[0].keys(), \n",
    "                            index=range(len(data)), \n",
    "                            data=data)\n",
    "    return post_df\n",
    "\n",
    "# Crawling data\n",
    "def get_post_data(fanpage_path, page_number):\n",
    "    fs.set_cookies(cookies='Data\\cookies.txt')\n",
    "    post_list = []\n",
    "\n",
    "    for post in fs.get_posts(fanpage_path,\n",
    "                options = {\"comments\" : True,\"reactions\": True, \"allow_extra_requests\": True ,\"reactors\" : True},\n",
    "                extra_info=True, \n",
    "                pages=page_number):\n",
    "        print(post)\n",
    "        post_list.append(post)\n",
    "\n",
    "    return post_list"
   ]
  },
  {
   "cell_type": "code",
   "execution_count": null,
   "metadata": {},
   "outputs": [],
   "source": [
    "# Get and store data\n",
    "post_data = get_post_data(fanpage_path=FANPAGE_PATH, page_number=20)\n",
    "\n",
    "post_data_df = convert_to_dataframe(data=post_data)\n",
    "\n",
    "post_data_df.to_csv(file_path, index=False) "
   ]
  },
  {
   "cell_type": "code",
   "execution_count": null,
   "metadata": {},
   "outputs": [],
   "source": [
    "reactors_df = pd.read_csv('Data\\\\reactors.csv')\n",
    "\n",
    "def get_url(url):\n",
    "    pos = url.find('.com/')\n",
    "    parsed_url = url[pos+5:]\n",
    "    return parsed_url\n",
    "\n",
    "reactors_list = []\n",
    "\n",
    "for link in reactors_df['link']:\n",
    "    try:\n",
    "        url = get_url(link)\n",
    "        reactor = fs.get_profile(url, cookies='Data\\\\cookies.txt')\n",
    "        print(reactor)\n",
    "        reactors_list.append(reactor)\n",
    "    except Exception:\n",
    "        continue\n",
    "\n",
    "reactors_info = pd.DataFrame(reactors_list)\n",
    "reactors_info.to_csv('Data\\\\reactors_info.csv')"
   ]
  }
 ],
 "metadata": {
  "kernelspec": {
   "display_name": "gpu_env",
   "language": "python",
   "name": "python3"
  },
  "language_info": {
   "codemirror_mode": {
    "name": "ipython",
    "version": 3
   },
   "file_extension": ".py",
   "mimetype": "text/x-python",
   "name": "python",
   "nbconvert_exporter": "python",
   "pygments_lexer": "ipython3",
   "version": "3.11.5"
  }
 },
 "nbformat": 4,
 "nbformat_minor": 2
}
